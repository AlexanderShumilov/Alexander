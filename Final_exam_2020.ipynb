{
 "cells": [
  {
   "cell_type": "markdown",
   "metadata": {},
   "source": [
    "## Scientific Computing 2020: Final exam \n",
    "Monday October 12, 2020, 12:30 - 15:30\n",
    "\n",
    "This exam includes **5 tasks** based on the lecture materials and **7 problems** based on the materials of exercise sessions and homeworks. Each fully solved task or problem gives you 2 points. To obtain the full grade  you need to achieve the total score of 20 points."
   ]
  },
  {
   "cell_type": "markdown",
   "metadata": {},
   "source": [
    "### Task 1 (2 points)\n",
    "1. Describe the von Neumann architecture. What is the main idea of this architecture? \n",
    "2. Which methods can be used to speed up:\n",
    "  a) A C/C++ program;\n",
    "  b) A Python program?"
   ]
  },
  {
   "cell_type": "markdown",
   "metadata": {},
   "source": [
    "### Task 2 (2 points)\n",
    "1. Each program has a parallelizable and serial part. Explain these parts in words and provide examples of both. \n",
    "2. Describe the OpenMP and MPI approaches to parallelization. List advantages and overheads of each of these approaches. Justify your answer. "
   ]
  },
  {
   "cell_type": "markdown",
   "metadata": {},
   "source": [
    "### Task 3 (2 points)\n",
    "1. Suppose you need to solve the system with a huge matrix (1M X 1M). Which pitfalls might you expect during the solution of this system? Which branch of methods would you use: direct or iterative ones? \n",
    "2. List three points J.Hadamard proposed to consider in order to classify problems in terms of well- and ill-posedness. Provide at least two simple examples of an ill-posed problem and explain why it is considered an ill-posed problem. "
   ]
  },
  {
   "cell_type": "markdown",
   "metadata": {},
   "source": [
    "### Task 4 (2 points)\n",
    "1. Provide examples of overdetermined Cauchy problem and overdetermined Boundary-value problem for ODEs. Explain your examples: why these problems are overdetermined and which conditions make them overdetermined?  \n",
    "2. Which property of the Fourier Transform allows to simplify some differential equations, and which allows to simplify integral ones? Explain your answer and provide examples."
   ]
  },
  {
   "cell_type": "markdown",
   "metadata": {},
   "source": [
    "### Task 5 (2 points) \n",
    "1. Describe the Top-down and the Bottom-up approaches to simulation. Justify your answer with examples. \n",
    "2. Describe the model-based and the data-driven approaches to the computational problems. Provide an example of a real-world problem, which could be solved using both of these approaches. Which advantages and disadvantages can you list for these approaches in terms of your example? "
   ]
  },
  {
   "cell_type": "markdown",
   "metadata": {},
   "source": [
    "### Problem 1 (2 points)\n",
    "\n",
    "Assume that, as in Amdahl's law, a program has a sequential, non-parallelizable part, and the remaining part is ideally parallelizable. Suppose that the efficiency of parallelizing the program to $n_1=2$ processes is $a_1=0.8$.  Find the efficiency of parallelizing the program to $n_2=5$ processes. "
   ]
  },
  {
   "cell_type": "markdown",
   "metadata": {},
   "source": [
    "### Problem 2 (2 points)\n",
    "Write an MPI program computing the maximum of an array. The array must be randomly generated in the root process, then divided in chunks and distributed to all processes. Each process must compute the maximum in its chunk, and then the results must be reduced at the root process. "
   ]
  },
  {
   "cell_type": "markdown",
   "metadata": {},
   "source": [
    "### Problem 3 (2 points)\n",
    "\n",
    "We are solving the linear system $A\\mathbf x=\\mathbf b$ with $A=\\begin{pmatrix}0 & 10^{-3}\\\\ 10^{-3} & 10^2\\end{pmatrix}$ and some $\\mathbf b$. Suppose that we know $\\mathbf b$ with the relative error $\\epsilon_{\\mathbf b}=10^{-12}$. Give an upper bound for the relative error of $\\mathbf x$."
   ]
  },
  {
   "cell_type": "markdown",
   "metadata": {},
   "source": [
    "### Problem 4 (2 points)\n",
    "Consider the problem https://www.spoj.com/problems/ADASTRNG/. Explain how the problem can be solved by an algorithm of complexity $O(N\\log^c N),$ where $N$ is the length of the input string, and $c$ is some constant. Specify a particular $c$. (**Remark:** you don't need to write the program, it is sufficient to explain the logic of the algorithm). "
   ]
  },
  {
   "cell_type": "markdown",
   "metadata": {},
   "source": [
    "### Problem 5 (2 points)\n",
    "\n",
    "Suppose that we need to convolve two 1D arrays of size $N=3^n$, with a large $n$. Suppose that one of the arrays is sparse and has only $M$ nonzero elements ($ M < N $). We can either perform convolution with the help of DFT or directly, using the definition (but not including the zero terms). For which $M,N$ will the first method be more efficient, and for which  the second? (Give an asymptotic theoretical estimate.)"
   ]
  },
  {
   "cell_type": "markdown",
   "metadata": {},
   "source": [
    "### Problem 6 (2 points)\n",
    "\n",
    "Suppose that we are solving the ODE $\\tfrac{d}{dt} x=-x$ iteratively, using the centered approximation for the derivative:\n",
    "\n",
    "$$\\frac{\\tilde x_{n+1}-\\tilde x_{n-1}}{2\\Delta t}=-\\tilde x_n.$$\n",
    "\n",
    "Determine theoretically for which $\\Delta t$ the numerical solution does not diverge, i.e. $\\sup_n \\tilde x_n^2 <\\infty$."
   ]
  },
  {
   "cell_type": "markdown",
   "metadata": {},
   "source": [
    "### Problem 7 (2 points)\n",
    "\n",
    "Recall that the Radon transform is defined by \n",
    "\n",
    "$$Rf(\\alpha, s) =  \\int_{-\\infty}^\\infty f(z\\sin\\alpha+s\\cos\\alpha, -z\\cos\\alpha+s\\sin\\alpha) dz.$$ \n",
    "\n",
    "Suppose that $f$ is an indicator function of some set $A\\subset \\mathbb R^2$, i.e. $f(x,y)=\\begin{cases}1,& (x,y)\\in A\\\\ 0,&(x,y)\\notin A\\end{cases}$. Suppose that $Rf(\\alpha, s)=0$ for all $\\alpha, s$ such that $|s-\\cos \\alpha|>1$. What is the largest possible area of $A$? Describe this $A$."
   ]
  }
 ],
 "metadata": {
  "kernelspec": {
   "display_name": "Python 3",
   "language": "python",
   "name": "python3"
  },
  "language_info": {
   "codemirror_mode": {
    "name": "ipython",
    "version": 3
   },
   "file_extension": ".py",
   "mimetype": "text/x-python",
   "name": "python",
   "nbconvert_exporter": "python",
   "pygments_lexer": "ipython3",
   "version": "3.7.3"
  }
 },
 "nbformat": 4,
 "nbformat_minor": 4
}
