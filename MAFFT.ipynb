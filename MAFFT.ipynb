{
 "cells": [
  {
   "cell_type": "code",
   "execution_count": 1,
   "metadata": {},
   "outputs": [],
   "source": [
    "import numpy as np\n",
    "import pandas as pd\n",
    "import os \n",
    "import tqdm\n",
    "import urllib\n",
    "\n",
    "from Bio import SeqIO\n",
    "import seaborn as sns\n",
    "import matplotlib.pyplot as plt\n",
    "from bioservices import UniProt"
   ]
  },
  {
   "cell_type": "code",
   "execution_count": 2,
   "metadata": {},
   "outputs": [],
   "source": [
    "df_unpr = pd.read_csv(\"uniprot.csv\")\n",
    "df_unpr = df_unpr.drop(['Unnamed: 0'], axis=1)\n",
    "filenames = df_unpr['Filename'].tolist()"
   ]
  },
  {
   "cell_type": "code",
   "execution_count": 3,
   "metadata": {},
   "outputs": [
    {
     "data": {
      "text/plain": [
       "37746"
      ]
     },
     "execution_count": 3,
     "metadata": {},
     "output_type": "execute_result"
    }
   ],
   "source": [
    "len(filenames)"
   ]
  },
  {
   "cell_type": "code",
   "execution_count": 51,
   "metadata": {},
   "outputs": [
    {
     "data": {
      "text/plain": [
       "252"
      ]
     },
     "execution_count": 51,
     "metadata": {},
     "output_type": "execute_result"
    }
   ],
   "source": [
    "import gc\n",
    "gc.collect()"
   ]
  },
  {
   "cell_type": "code",
   "execution_count": 4,
   "metadata": {},
   "outputs": [],
   "source": [
    "dist_matrix = np.zeros((len(filenames), len(filenames)))"
   ]
  },
  {
   "cell_type": "code",
   "execution_count": 9,
   "metadata": {},
   "outputs": [
    {
     "name": "stdout",
     "output_type": "stream",
     "text": [
      "Progress: 1000 / 37746\n",
      "Progress: 2000 / 37746\n",
      "Progress: 3000 / 37746\n",
      "Progress: 4000 / 37746\n",
      "Progress: 5000 / 37746\n",
      "Progress: 6000 / 37746\n",
      "Progress: 7000 / 37746\n",
      "Progress: 8000 / 37746\n",
      "Progress: 9000 / 37746\n",
      "Progress: 10000 / 37746\n",
      "Progress: 11000 / 37746\n",
      "Progress: 12000 / 37746\n",
      "Progress: 13000 / 37746\n",
      "Progress: 14000 / 37746\n",
      "Progress: 15000 / 37746\n",
      "Progress: 16000 / 37746\n",
      "Progress: 17000 / 37746\n",
      "Progress: 18000 / 37746\n",
      "Progress: 19000 / 37746\n",
      "Progress: 20000 / 37746\n",
      "Progress: 21000 / 37746\n",
      "Progress: 22000 / 37746\n",
      "Progress: 23000 / 37746\n",
      "Progress: 24000 / 37746\n",
      "Progress: 25000 / 37746\n",
      "Progress: 26000 / 37746\n",
      "Progress: 27000 / 37746\n",
      "Progress: 28000 / 37746\n",
      "Progress: 29000 / 37746\n",
      "Progress: 30000 / 37746\n",
      "Progress: 31000 / 37746\n",
      "Progress: 32000 / 37746\n",
      "Progress: 33000 / 37746\n",
      "Progress: 34000 / 37746\n",
      "Progress: 35000 / 37746\n",
      "Progress: 36000 / 37746\n",
      "Progress: 37000 / 37746\n"
     ]
    }
   ],
   "source": [
    "file = open('final_fasta.fasta.hat2', 'r')\n",
    "\n",
    "idx_row = 0\n",
    "idx_col = idx_row + 1\n",
    "flag = False\n",
    "i = 0\n",
    "\n",
    "while 1:\n",
    "    \n",
    "    line = file.readline()\n",
    "    if i > 37748:\n",
    "        #print(line)\n",
    "        for item in line.split():\n",
    "            dist_matrix[idx_row, idx_col] = float(item)\n",
    "            dist_matrix[idx_col, idx_row] = dist_matrix[idx_row, idx_col]\n",
    "            idx_col += 1    \n",
    "        \n",
    "            if idx_col == len(filenames):\n",
    "                flag = True\n",
    "                idx_row += 1\n",
    "                idx_col = idx_row + 1\n",
    "            \n",
    "        if flag and ((idx_row + 1) % 1000 == 0):\n",
    "            print(\"Progress: \" + str(idx_row + 1) + \" / 37746\")\n",
    "            flag = False\n",
    "\n",
    "        if (idx_row == len(filenames) - 1) and (idx_col == len(filenames)):\n",
    "            break\n",
    "       \n",
    "    i+=1\n",
    "\n",
    "file.close()"
   ]
  },
  {
   "cell_type": "code",
   "execution_count": 10,
   "metadata": {},
   "outputs": [
    {
     "data": {
      "text/plain": [
       "array([[0.   , 1.84 , 0.147, ..., 1.909, 1.833, 1.87 ],\n",
       "       [1.84 , 0.   , 1.827, ..., 1.895, 1.839, 1.933],\n",
       "       [0.147, 1.827, 0.   , ..., 1.922, 1.833, 1.87 ],\n",
       "       ...,\n",
       "       [1.909, 1.895, 1.922, ..., 0.   , 1.908, 1.787],\n",
       "       [1.833, 1.839, 1.833, ..., 1.908, 0.   , 1.872],\n",
       "       [1.87 , 1.933, 1.87 , ..., 1.787, 1.872, 0.   ]])"
      ]
     },
     "execution_count": 10,
     "metadata": {},
     "output_type": "execute_result"
    }
   ],
   "source": [
    "dist_matrix"
   ]
  },
  {
   "cell_type": "code",
   "execution_count": 11,
   "metadata": {},
   "outputs": [
    {
     "data": {
      "text/plain": [
       "''"
      ]
     },
     "execution_count": 11,
     "metadata": {},
     "output_type": "execute_result"
    }
   ],
   "source": [
    "file.readline() # should be ''"
   ]
  },
  {
   "cell_type": "code",
   "execution_count": 12,
   "metadata": {},
   "outputs": [],
   "source": [
    "np.save('dist_matrix.npy', dist_matrix)"
   ]
  }
 ],
 "metadata": {
  "kernelspec": {
   "display_name": "Python 3",
   "language": "python",
   "name": "python3"
  },
  "language_info": {
   "codemirror_mode": {
    "name": "ipython",
    "version": 3
   },
   "file_extension": ".py",
   "mimetype": "text/x-python",
   "name": "python",
   "nbconvert_exporter": "python",
   "pygments_lexer": "ipython3",
   "version": "3.7.4"
  }
 },
 "nbformat": 4,
 "nbformat_minor": 2
}
