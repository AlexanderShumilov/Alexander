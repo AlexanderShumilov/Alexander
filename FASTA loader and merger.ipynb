{
 "cells": [
  {
   "cell_type": "code",
   "execution_count": 1,
   "metadata": {},
   "outputs": [],
   "source": [
    "import numpy as np\n",
    "import pandas as pd\n",
    "import os \n",
    "import tqdm\n",
    "\n",
    "import seaborn as sns\n",
    "import matplotlib.pyplot as plt\n",
    "\n",
    "from Bio.PDB import *\n",
    "from difflib import SequenceMatcher\n",
    "import Levenshtein"
   ]
  },
  {
   "cell_type": "code",
   "execution_count": 18,
   "metadata": {},
   "outputs": [],
   "source": [
    "pdbl = PDBList()\n",
    "dir_pdb = './PDBs'\n",
    "dir_fasta = './FASTAs'\n",
    "\n",
    "files_wt = os.listdir(dir_pdb)\n",
    "files_pdb = list(filter(lambda x: x.endswith('.ent'), files_wt))"
   ]
  },
  {
   "cell_type": "code",
   "execution_count": 21,
   "metadata": {},
   "outputs": [
    {
     "name": "stderr",
     "output_type": "stream",
     "text": [
      "C:\\Users\\alexh\\Anaconda3\\lib\\site-packages\\ipykernel_launcher.py:1: TqdmDeprecationWarning: This function will be removed in tqdm==5.0.0\n",
      "Please use `tqdm.notebook.tqdm` instead of `tqdm.tqdm_notebook`\n",
      "  \"\"\"Entry point for launching an IPython kernel.\n"
     ]
    },
    {
     "data": {
      "application/vnd.jupyter.widget-view+json": {
       "model_id": "78b8391feb654ece95d6357612fae800",
       "version_major": 2,
       "version_minor": 0
      },
      "text/plain": [
       "HBox(children=(FloatProgress(value=0.0, max=37746.0), HTML(value='')))"
      ]
     },
     "metadata": {},
     "output_type": "display_data"
    },
    {
     "name": "stdout",
     "output_type": "stream",
     "text": [
      "\n"
     ]
    }
   ],
   "source": [
    "''' # все файлы перемещены, не запускать\n",
    "for filename in tqdm.tqdm_notebook(files_pdb):\n",
    "    fasta_name = filename[3:7] + '.fasta'\n",
    "    SeqIO.convert(dir_pdb + '/' + filename, \"pdb-seqres\", fasta_name, \"fasta\") # files should be moved to another directory\n",
    "'''    "
   ]
  },
  {
   "cell_type": "code",
   "execution_count": 62,
   "metadata": {},
   "outputs": [],
   "source": [
    "dir_fasta = './FASTAs'\n",
    "\n",
    "files_wt = os.listdir(dir_fasta)\n",
    "files_fasta = list(filter(lambda x: x.endswith('.fasta'), files_wt))"
   ]
  },
  {
   "cell_type": "code",
   "execution_count": 63,
   "metadata": {},
   "outputs": [
    {
     "name": "stderr",
     "output_type": "stream",
     "text": [
      "C:\\Users\\alexh\\Anaconda3\\lib\\site-packages\\ipykernel_launcher.py:9: TqdmDeprecationWarning: This function will be removed in tqdm==5.0.0\n",
      "Please use `tqdm.notebook.tqdm` instead of `tqdm.tqdm_notebook`\n",
      "  if __name__ == '__main__':\n"
     ]
    },
    {
     "data": {
      "application/vnd.jupyter.widget-view+json": {
       "model_id": "4668635bf4974ab5ae1358336e9f0a7e",
       "version_major": 2,
       "version_minor": 0
      },
      "text/plain": [
       "HBox(children=(FloatProgress(value=0.0, max=37746.0), HTML(value='')))"
      ]
     },
     "metadata": {},
     "output_type": "display_data"
    },
    {
     "name": "stdout",
     "output_type": "stream",
     "text": [
      "\n"
     ]
    }
   ],
   "source": [
    "df = pd.DataFrame(columns = [\"Filename\", \n",
    "                             \"Uniprot_id\"])\n",
    "\n",
    "un_id = ''\n",
    "\n",
    "\n",
    "final_fasta = open(\"final_fasta.fasta\", \"w\")\n",
    "\n",
    "for filename in tqdm.tqdm_notebook(files_fasta):\n",
    "        \n",
    "    data_temp = []\n",
    "    \n",
    "    with open(dir_fasta + '/' + filename, \"r\") as file_fasta:\n",
    "            lines = file_fasta.readlines()\n",
    "\n",
    "           \n",
    "    un_id = lines[0].split()[1][4:]    \n",
    "    new_head_line = '>' + filename[0:4] + '.ent\\n'\n",
    "    lines[0] = new_head_line\n",
    "    \n",
    "    with open(dir_fasta + '/' + filename, 'w') as f_out:\n",
    "        f_out.write(''.join(lines))\n",
    "    \n",
    "    final_fasta.write(''.join(lines))\n",
    "    \n",
    "    data_temp.append({\"Filename\": 'pdb' + filename[0:4] + '.ent', \n",
    "                      \"Uniprot_id\": un_id}\n",
    "                    )\n",
    "    df_temp = pd.DataFrame(data_temp)\n",
    "    df = df.append(df_temp, ignore_index = True)\n",
    "    \n",
    "final_fasta.close()\n",
    "df.to_csv(\"uniprot.csv \")"
   ]
  },
  {
   "cell_type": "code",
   "execution_count": 65,
   "metadata": {},
   "outputs": [
    {
     "data": {
      "text/plain": [
       "'1ntp.fasta'"
      ]
     },
     "execution_count": 65,
     "metadata": {},
     "output_type": "execute_result"
    }
   ],
   "source": [
    "files_fasta[3885]"
   ]
  },
  {
   "cell_type": "code",
   "execution_count": null,
   "metadata": {},
   "outputs": [],
   "source": []
  }
 ],
 "metadata": {
  "kernelspec": {
   "display_name": "Python 3",
   "language": "python",
   "name": "python3"
  },
  "language_info": {
   "codemirror_mode": {
    "name": "ipython",
    "version": 3
   },
   "file_extension": ".py",
   "mimetype": "text/x-python",
   "name": "python",
   "nbconvert_exporter": "python",
   "pygments_lexer": "ipython3",
   "version": "3.7.4"
  }
 },
 "nbformat": 4,
 "nbformat_minor": 2
}
