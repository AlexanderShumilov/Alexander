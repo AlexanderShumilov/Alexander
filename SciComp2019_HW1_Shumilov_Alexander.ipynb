{
 "cells": [
  {
   "cell_type": "markdown",
   "metadata": {
    "deletable": true,
    "editable": true
   },
   "source": [
    "\n",
    "### Problem 1 (2 points)\n",
    "Under assumptions of Amdahl's law, suppose that 60% of a program are perfectly parallelizable, and the rest is not parallelizable. \n",
    "1. What is the maximum speedup achievable by parallelization? \n",
    "2. Suppose that we have obtained speedup 2 (by using a suitable number of processes). What is the efficiency of this parallelization? \n",
    "\n"
   ]
  },
  {
   "cell_type": "markdown",
   "metadata": {
    "deletable": true,
    "editable": true
   },
   "source": [
    "### Solution\n",
    "$\\large{1.}$<br>\n",
    "$$\\text{Speedup} = \\frac{t_1}{t_n} = \\cfrac{t_1}{(1-f)t_1+\\frac{f\\cdot t_1}{n}} = \\cfrac{1}{1-f+\\frac{f}{n}}$$\n",
    "$$\\text{let}\\quad f = 0.6,\\quad 1-f = 0.4\\rightarrow \\text{Speedup}_{max} = \\frac{1}{1-0.6+\\frac{0.6}{n}} = 2.5,\\quad \\text{assuming number of process large enough for}\\quad\\frac{0.6}{n}\\to 0\\quad \\text{in order to find maximum achievable speedup in our case} $$\n",
    "$$\\quad\\text{(so there exists such }n_0: n>n_0\\rightarrow\\frac{0.6}{n}<\\epsilon \\quad for\\quad \\forall \\epsilon>0).$$<br>\n",
    "$\\large{2.}$<br>\n",
    "$$\\text{Efficiency} = \\frac{\\text{Speedup}}{n} \\rightarrow 2= \\frac{1}{1-0.6+\\frac{0.6}{n}},$$\n",
    "$$0.4+\\frac{0.6}{n}=0.5 \\rightarrow n = \\frac{0.6}{0.1} = 6 \\text{ - Suitable number of processes}$$\n",
    "$$\\text{Efficiency} = \\frac{\\text{Speedup}}{6} = \\frac{1}{3}$$"
   ]
  },
  {
   "cell_type": "markdown",
   "metadata": {
    "deletable": true,
    "editable": true
   },
   "source": [
    "### Problem 2 (2 points)\n",
    "Write a Python or C/C++ program that uses **MPI reduce** to find the largest file in terms of the  number of lines among all .txt files in the working directory. The program must be callable in the form `mpirun -np <N> python linecount.py` (in the case of the Python version) or `mpirun -np <N> linecount.exe` (the C/C++ version), where `<N>` is the user-defined number of processes. The program is expected to first somehow distribute the files found in the current directory to the processes, then each process should count the lines in the files assigned to it, and finally the result should be MPI-reduced and printed out. \n"
   ]
  },
  {
   "cell_type": "code",
   "execution_count": null,
   "metadata": {
    "collapsed": true,
    "deletable": true,
    "editable": true
   },
   "outputs": [],
   "source": [
    "# Sample files with different number of strings were generated this way:\n",
    "for i in range(10):\n",
    "    fname = 'tmp' + str(i+1) + '.txt'\n",
    "    file_obj = open(fname, 'w')\n",
    "    for k in range(i+1):\n",
    "     file_obj.write(str(i+1)+'\\n')\n",
    "    file_obj.close()"
   ]
  },
  {
   "cell_type": "code",
   "execution_count": null,
   "metadata": {
    "collapsed": true,
    "deletable": true,
    "editable": true
   },
   "outputs": [],
   "source": [
    "from mpi4py import MPI\n",
    "import os\n",
    "import fnmatch\n",
    "import math\n",
    "\n",
    "comm = MPI.COMM_WORLD\n",
    "R = comm.Get_rank()\n",
    "S = comm.Get_size()\n",
    "\n",
    "# Countning the number of files (\".\" - directory)\n",
    "A = fnmatch.filter(os.listdir(\".\"), '*.txt')\n",
    "N = len(A)\n",
    "\n",
    "# Master-function for finding the file with maximum number of strings\n",
    "def Fun(List):\n",
    "    List_of_lengths = []\n",
    "    # In this list we keep string length of txt files from our directory\n",
    "    for fname in A:\n",
    "        file = open(fname, 'r')\n",
    "        List_of_lengths.append(len(file.readlines()))\n",
    "        file.close()\n",
    "    return A[List_of_lengths.index(max(List_of_lengths))]\n",
    "\n",
    "M = math.floor((len(A)/S))\n",
    "# Rounding down len(A)/S (if len(A) mod S <> 0 then our \n",
    "# last process will work with less than len(A) div S files)\n",
    "if R == (S - 1):\n",
    "    filename = Fun(A[R * M:len(A) - 1])\n",
    "else:\n",
    "    filename = Fun(A[R * M:(R + 1) * M])\n",
    "Max = comm.gather(filename, root=0)\n",
    "if R == 0:\n",
    "    print('File with maximum number of strings:', Fun(Max))"
   ]
  },
  {
   "cell_type": "markdown",
   "metadata": {
    "collapsed": false,
    "deletable": true,
    "editable": true
   },
   "source": [
    "### Problem 3 (2 points)\n",
    "Solve the Distinct Substrings problem at Sphere online judge: http://www.spoj.com/problems/DISUBSTR/. Provide code passing the test of the judge. Explain how your code works and theoretically estimate the complexity of the algorithm (as $O(f(N))$, where $f(N)$ is some function of the length of the input string). \n"
   ]
  },
  {
   "cell_type": "markdown",
   "metadata": {
    "deletable": true,
    "editable": true
   },
   "source": [
    "### Solution\n",
    "The idea of solution is to combine construction of the sorted Suffix Array of given string, and further analyze all prefixes of each suffix of initial string. So we process our string on both sides, first counting all substrings and eliminating repetative ones.\n",
    "Prefix analysis is basically constructing longest common prefix array, which together with SA construction was discussed in details on seminar. <br>\n",
    "To count all substrings we should sum $1+2+...+N$, where N is number of letters in the string:  $\\sum\\limits_{i=1}^ni = \\frac{n(n+1)}{2}$ <br>\n",
    "Number of non-unique strings given by sum of elements of LCP-array: $\\sum\\limits_{i=1}^nLCP(i)$ $$$$\n",
    "Number of unique substrings = $\\quad\\cfrac{n(n+1)}{2}-\\sum\\limits_{i=1}^nLCP(i)$\n",
    "\n",
    "We can clearly see the result on Judge test string 'ababa':<br>\n",
    "Sorted suffix array: [4, 2, 0, 3, 1] (from ['a', 'aba', 'ababa', 'ba', 'baba']), corresponding LCP-array: [0, 1, 3, 0, 2]<br>\n",
    "\n",
    "\n",
    "All substrings: $\\textbf{a, ab, aba, abab, ababa, b, ba, bab, baba, a, ab, aba, b, ba, a}$ (in total 15)\n",
    "\n",
    "\n",
    "LCP array elements elimination process: <br>\n",
    "[0, ('a')$\\rightarrow$ $\\text{nothing}$  <br>\n",
    " 1, ('aba')$\\rightarrow$ $\\textbf{a}$  <br>\n",
    " 3, ('ababa')$\\rightarrow$ $\\textbf{a, ab, aba}$  <br>\n",
    " 0, ('ba')$\\rightarrow$ $\\text{nothing}$  <br>\n",
    " 2] ('baba')$\\rightarrow$ $\\textbf{b, ba}$ $$$$\n",
    "So we have $15-6=9$ distinct substrings.\n",
    "\n",
    "### Complexity\n",
    "In this algorithm we have 3 essential parts: sorted Suffix Array construction, LCP Array construction, Body - cycle for input number of strings: <br>\n",
    "getSA complexity: total complexity is $O(N\\log^2 N)$ (since we had one whole seminar dedicated to Suffix Arrays, I suppose there is no need to explain exact parts of code)<br>\n",
    "getLCP complexity: construction of the whole LCP requires $O(N\\log N)$ operations. <br>\n",
    "Number of strings $<=20$.\n",
    "\n",
    "Thus, total complexity of whole algorithm is $O(N\\log^2 N)$ ."
   ]
  },
  {
   "cell_type": "code",
   "execution_count": 1,
   "metadata": {
    "collapsed": false,
    "deletable": true,
    "editable": true
   },
   "outputs": [
    {
     "name": "stdout",
     "output_type": "stream",
     "text": [
      "1\n",
      "ababa\n",
      "9\n"
     ]
    }
   ],
   "source": [
    "import sys\n",
    "import numpy as np\n",
    "\n",
    "def invPerm(p):\n",
    "    'Invert the permutation p'\n",
    "    s = np.empty(p.size, p.dtype)\n",
    "    s[p] = np.arange(p.size)\n",
    "    return s\n",
    "\n",
    "def getSA(A):\n",
    "    if not type(A) is np.ndarray:\n",
    "        A = np.array(list(A))\n",
    "    N = len(A) \n",
    "    M = int(np.ceil(np.log2(N)))+1   \n",
    "    # number of iterations (idea - at step 'i' sort length-(2 to the power of 'i') substrings)\n",
    "    P = np.zeros((M,N), dtype=int) \n",
    "    Q = np.zeros((M,N), dtype=int)     \n",
    "    R = np.zeros((M,3*N), dtype=int) \n",
    "\n",
    "    for k in range(M):\n",
    "        if k == 0:\n",
    "            P[0] = np.argsort(A)\n",
    "            Q[0][1:] = np.cumsum(A[P[0]][1:] != A[P[0]][:-1])\n",
    "            R[0][:N] = Q[0][invPerm(P[0])]\n",
    "        else:\n",
    "            offset = 2**(k-1)\n",
    "            r = np.lexsort((R[k-1, P[k-1]+offset], R[k-1, P[k-1]]))\n",
    "            P[k] = P[k-1][r]  \n",
    "            Q[k][1:] = np.cumsum(np.logical_or(R[k-1][P[k]][1:] != R[k-1][P[k]][:-1], \n",
    "                                          R[k-1][P[k]+offset][1:] != R[k-1][P[k]+offset][:-1]))\n",
    "            R[k][:N] = Q[k][invPerm(P[k])]\n",
    "\n",
    "            if Q[k][-1] == N-1: \n",
    "                break\n",
    "\n",
    "    SA = P[k]\n",
    "    return SA, P[:k+1], Q[:k+1], R[:k+1]  \n",
    "   \n",
    "def getLCP(SA, R):\n",
    "    (M, N) = R.shape\n",
    "    LCP = np.zeros((len(SA)-1,),dtype=int)\n",
    "    for m in range(M-1)[::-1]:\n",
    "        t = (R[m][SA[1:]+LCP] == R[m][SA[:-1]+LCP]).astype(int)\n",
    "        LCP += (2**m)*t\n",
    "    return LCP   \n",
    "    \n",
    "num = int(input())\n",
    "i = 0\n",
    "# Essential part of task - combining LCP and SA approaches to count distinct substrings\n",
    "for i in range(num):\n",
    " A = input() + '$'\n",
    " SA, _, _, R = getSA(A)\n",
    " LCP = getLCP(SA, R)\n",
    "# Since we added extra $ to our string (to mark the end of input string),\n",
    "# we should modify our formula for counting non-distinct substrings\n",
    " l = int((len(A)-1)*(len(A))/2)-LCP.sum()\n",
    " print (l)"
   ]
  },
  {
   "cell_type": "markdown",
   "metadata": {
    "collapsed": true,
    "deletable": true,
    "editable": true
   },
   "source": [
    "\n",
    "\n",
    "### Problem 4 (2 points)\n",
    "Suppose that we want to distribute $N$ personal projects to $N$ students. Assume that each student $(k)_{k=0}^{N-1}$ has a list of his/her preferences for the projects, expressed as a vector $\\mathbf r_k$ of integer ranks assigned to each project. Ranks vary between 0 and $N-1$ without repetitions, the **lower** the rank the **more preferable** the project. (For example, the first student's ranks are $\\mathbf r_0 = [2,1,0]$, the second's $\\mathbf r_1 = [0,2,1]$ and the third $\\mathbf r_2 = [0,1,2]$). We want to distribute the projects so as to maximize the total preference, i.e., if $n_k$ denotes the project assigned to the $k$'th student, we want to make $f = \\sum_{k=0}^{N-1} \\mathbf r_k[n_k]$ as small as possible. (In the example above the optimal distribution is $n_0=2, n_1=0, n_2=1$, which gives $f=1$).  \n",
    "  * Come up with an algorithm optimizing the distribution and implement it in a Python or C/C++ program. The algorithm should accept the preference vectors and output a recommended distribution $(n_k)_{k=1}^N$. The algorithm need not find the best solution, but is expected to generally produce better solutions than would have been obtained by randomly distributing the projects. The algorithm should be reasonably fast, say run in not more than a few seconds for $N=30$. \n",
    "  * Compare experimentally your algorithm with the trivial algorithm producing a random distribution. To this end, perform $M=1000$ experiments in each of which 1) random preference vectors for $N=30$ students and projects are generated; 2) the objective function $f$ is evaluated for both algorithms. After finishing all the experiments, plot the two respective distributions of the obtained $M$ values of $f$ and compute the mean values of $f$ for both algorithms. "
   ]
  },
  {
   "cell_type": "markdown",
   "metadata": {
    "deletable": true,
    "editable": true
   },
   "source": [
    "### Solution\n",
    "Algorithm explanation:<br>\n",
    "Lets imagine 2-dimensional quadratic matrix \"projects\"-\"students\" ([1..N] $\\cdot$ [1..N]) <br>\n",
    "\\begin{array}{|c|c|}\n",
    "\\hline  & Project 1 & Project 2 & ... \\\\\\hline\n",
    "  Student 1  & 1 & 2 & ... \\\\\\hline\n",
    "  Student 2  & 0 & 4 & ... \\\\\\hline\n",
    "  Student 3  & 3 & 3 & ... \\\\\\hline\n",
    "  Student 4  & 4 & 1 & ... \\\\\\hline\n",
    "  Student 5  & 29 & 11 & ... \\\\\\hline\n",
    "  ...  & ... & ... & ... \\\\\\hline\n",
    "\\end{array} <br>\n",
    "As we can see from the task decription, values in our columns will not repeat (in row will, but it is totally fine). Intuitive algorithm based on this property - uniqueness of the row values.  We start from first column and try to find project preference = 0 (I understand preference as anti-priority: higher it is, less happier our student. So we also want to show, that smart algorithm will have less sum of preferences of all students). In the second column we seek for preference 0 or 1. So on the $k$-th project we will seek for preference $<= k-1$ (of course, with least value of preference). "
   ]
  },
  {
   "cell_type": "code",
   "execution_count": 30,
   "metadata": {
    "collapsed": false,
    "deletable": true,
    "editable": true
   },
   "outputs": [],
   "source": [
    "import matplotlib as plt\n",
    "import numpy as np\n",
    "import seaborn as sns\n",
    "from random import shuffle\n",
    "\n",
    "# Number of students\\projects\n",
    "N = 30\n",
    "test = []\n",
    "alg = []\n",
    "# Function that represents the main idea \n",
    "def Project_finder(st, pr, n):\n",
    "    a=0\n",
    "    for i in range(n+1): # cycle for students\n",
    "        l = False\n",
    "        for j in pr: # moving through projects\n",
    "            if st.index(i) == j: # found matching priority\n",
    "                l = True # raising flag if targer index is found then interrupting our cycle\n",
    "                break \n",
    "        if not l: \n",
    "            a = i\n",
    "            pr.append(st.index(i))   \n",
    "    return a\n",
    "\n",
    "# Intermediate calculations (for big test)\n",
    "def calc():\n",
    "    studs = []\n",
    "    dist = []\n",
    "    p = []\n",
    "    j = 0\n",
    "    f = 0\n",
    "    t = 0\n",
    "    # Randomizer from google for test algorithm\n",
    "    for i in range(0,N):\n",
    "        b = sorted(a, key = lambda *args: random.random())\n",
    "        studs.append(b)\n",
    "        \n",
    "    # Algorithm student distributor\n",
    "    for s in studs:\n",
    "        dist.append(Project_finder(s,p,j))\n",
    "        j = j + 1\n",
    "    # Randomized input data (also randomizer inspired by simplest googlable solution)\n",
    "    rand=sorted(a, key = lambda *args: random.random())\n",
    "    for i in range(0,len(studs)):f = studs[i][rand[i]] + f\n",
    "        \n",
    "    return [sum(dist), f]\n",
    "\n",
    "# Body\n",
    "for i in range(0, 1000):\n",
    "    alg_res, rand_res = calc()\n",
    "    alg.append(alg_res)\n",
    "    test.append(rand_res)   \n"
   ]
  },
  {
   "cell_type": "markdown",
   "metadata": {
    "deletable": true,
    "editable": true
   },
   "source": [
    "So our algorithms shows much less sum of preferences and also distribution of values of possible sums is much more narrow (so it is better overall). I guess Hungarian-like Algorithms work better, but we were not supposed to find the best solution."
   ]
  },
  {
   "cell_type": "code",
   "execution_count": 31,
   "metadata": {
    "collapsed": false,
    "deletable": true,
    "editable": true
   },
   "outputs": [
    {
     "data": {
      "text/plain": [
       "<matplotlib.axes._subplots.AxesSubplot at 0xd2935f0>"
      ]
     },
     "execution_count": 31,
     "metadata": {},
     "output_type": "execute_result"
    },
    {
     "data": {
      "image/png": "[encoded data removed]",
      "text/plain": [
       "<Figure size 432x288 with 1 Axes>"
      ]
     },
     "metadata": {},
     "output_type": "display_data"
    }
   ],
   "source": [
    "# Visualization    \n",
    "sns.distplot(test)\n",
    "sns.distplot(alg)"
   ]
  },
  {
   "cell_type": "markdown",
   "metadata": {
    "deletable": true,
    "editable": true
   },
   "source": [
    "  \n",
    "### Problem 5 (2 points)\n",
    "Suppose that we have developed an algorithm that is supposed to generate independent (quasi-)random numbers uniformly distributed in the interval $[0,1]$. To test our algorithm, we perform a series of experiments. In each experiment, we generate $N=10^3$ numbers $(x_n)_{n=1}^N$ with our algorithm, and compute the minimum distance $r=\\min_{1 \\le n < m\\le N}|x_n-x_m|$ between them. We observe that in more than 99% of such experiments we obtain $r<10^{-5}$. Does this observation contradict the hypothesis of generating independent uniformly distributed random numbers? Explain your answer."
   ]
  },
  {
   "cell_type": "markdown",
   "metadata": {
    "collapsed": true,
    "deletable": true,
    "editable": true
   },
   "source": [
    "### Solution\n",
    "To satisfy the $r<10^{-5}$ criteria let's estimate upper and lower bound of the probability $P(distance > 10^{-5})$<bf> \n",
    "At first we want to look at upper bound so let's consider the \"worst\" case: let's quantify the probability P_1 of this configuration:  $\\quad\\underbrace{0\\xleftarrow{r}\\cdot\\xrightarrow{r}\\cdot...1}_{10^{3} dots}$<br>\n",
    "Let's consider the distance between our dots minimal possible(r + $\\epsilon$ $\\Rightarrow$ dots are lying on the edges of intervals $[\\xleftarrow{r}\\cdot\\xrightarrow{r}]$):<br>\n",
    "$P(distance > 10^{-5})<P_1 \\rightarrow 1-P(distance > 10^{-5})=P(distance < 10^{-5})>1-P_1$ (should be > $99$%) <br> <br>\n",
    "Since we put dots on $[0;1]$ consequently, probability of the $1^{\\text{st}}$ dot will be $1-r$, for the second will be $1-(r\\cdot 2),... \\Rightarrow P_1 = \\prod\\limits_{n=1}^{999}(1-r\\cdot n)$\n",
    "\n",
    "Another \"critical\" case (only estimation of $P_1$ will be ok I suppose, but interestingly enough we can evaluate kind of \"boundary\" of opposite case) - distance between dots is at least $2r$ (so intervals of $[\\xleftarrow{r}\\cdot\\xrightarrow{r}]$ are not crossing):$\\quad\\underbrace{0\\xleftarrow{2r}\\cdot\\xrightarrow{2r}\\cdot...1}_{10^{3} dots}$<br>\n",
    "Idea is the same: probability of the $1^{\\text{st}}$ dot will be $1-2\\cdot r$, for the second will be $1-2\\cdot(2\\cdot ),... \\Rightarrow P_2 = \\prod\\limits_{n=1}^{999}(1-2r\\cdot n)$\n",
    "\n",
    "\n",
    "$$\\prod\\limits_{n=1}^{999}(1-2r\\cdot n)=P_2 < P(distance > 10^{-5}) < P_1=\\prod\\limits_{n=1}^{999}(1-r\\cdot n)$$\n",
    "$$0.04 \\cdot 10^{-3} < P(distance > 10^{-5}) < 6.66 \\cdot 10^{-3}$$<br>\n",
    "As we can see $1-P_1>99$% so everything is totally fine and nothing contradicts our hypothesis."
   ]
  },
  {
   "cell_type": "code",
   "execution_count": null,
   "metadata": {
    "collapsed": true,
    "deletable": true,
    "editable": true
   },
   "outputs": [],
   "source": []
  }
 ],
 "metadata": {
  "kernelspec": {
   "display_name": "Python 3",
   "language": "python",
   "name": "python3"
  },
  "language_info": {
   "codemirror_mode": {
    "name": "ipython",
    "version": 3
   },
   "file_extension": ".py",
   "mimetype": "text/x-python",
   "name": "python",
   "nbconvert_exporter": "python",
   "pygments_lexer": "ipython3",
   "version": "3.6.4"
  }
 },
 "nbformat": 4,
 "nbformat_minor": 1
}
