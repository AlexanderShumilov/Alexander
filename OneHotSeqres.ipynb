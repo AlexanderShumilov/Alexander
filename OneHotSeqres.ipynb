{
 "cells": [
  {
   "cell_type": "code",
   "execution_count": 6,
   "id": "medieval-topic",
   "metadata": {},
   "outputs": [],
   "source": [
    "from Bio import SeqIO\n",
    "import os\n",
    "import pandas as pd\n",
    "import numpy as np\n",
    "import tensorflow as tf\n",
    "\n",
    "from Bio.SeqIO.PdbIO import PdbSeqresIterator\n",
    "from sklearn.preprocessing import LabelEncoder, OneHotEncoder"
   ]
  },
  {
   "cell_type": "code",
   "execution_count": 2,
   "id": "junior-render",
   "metadata": {},
   "outputs": [],
   "source": [
    "pdb_test_list = list(filter(lambda x: x.endswith('.ent'), os.listdir('./PDBs')))"
   ]
  },
  {
   "cell_type": "code",
   "execution_count": 27,
   "id": "seasonal-butler",
   "metadata": {},
   "outputs": [],
   "source": [
    "def encode_sequence(dir_pdb, dir_seq):\n",
    "\n",
    "    alphabet = ['\\n', 'A', 'R', 'N', 'D', 'C', 'E', 'Q', 'G', 'H', 'I', 'L', 'K', 'M', 'F', 'P', 'S', 'T', 'W', 'Y', 'V']\n",
    "\n",
    "    label_encoder = LabelEncoder()\n",
    "    integer_encoded = label_encoder.fit_transform(np.array(alphabet))\n",
    "\n",
    "    onehot_encoder = OneHotEncoder(sparse=False)\n",
    "    integer_encoded = integer_encoded.reshape(len(integer_encoded), 1)\n",
    "    onehot_encoded = onehot_encoder.fit_transform(integer_encoded)\n",
    "    dictionary = dict(zip(alphabet, onehot_encoded))\n",
    "\n",
    "    files_pdb = os.listdir(dir_pdb)\n",
    "\n",
    "    range_max = -1\n",
    "\n",
    "    for filename in files_pdb:\n",
    "\n",
    "        with open(dir_pdb + \"/\" + filename) as handle:\n",
    "            for record in PdbSeqresIterator(handle):\n",
    "                pass\n",
    "                #print(\"Record id %s, chain %s\" % (record.id, record.annotations[\"chain\"]))\n",
    "                #print(record.dbxrefs)\n",
    "\n",
    "        values_raw = np.array(list(str(record.seq)))\n",
    "        values = np.append(values_raw, '\\n')\n",
    "\n",
    "        seq_list = [dictionary[value] for value in values]\n",
    "\n",
    "        if np.array(seq_list).shape[1] != 21:\n",
    "            print('File %s was not encoded correctly - got number of categories %d instead of %d' % (file, file_seq.shape[1], 21))\n",
    "            continue\n",
    "\n",
    "        with open(dir_seq + '/' + filename[0:-4] + '_seq.npy', 'wb') as f:\n",
    "                np.save(f, np.array(seq_list))\n",
    "\n",
    "        f.close()\n",
    "        handle.close()\n",
    "\n",
    "        if np.array(seq_list).shape[0] > range_max:\n",
    "            range_max = np.array(seq_list).shape[0]\n",
    "    \n",
    "            \n",
    "    return range_max\n",
    "\n",
    "\n",
    "def pad_encoded_sequences(dir_seq, range_max):\n",
    "    \n",
    "    for file in list(os.listdir(dir_seq)):\n",
    "        file_seq = np.load(dir_seq + '/' + file)\n",
    "\n",
    "        if file_seq.shape[1] != 21:\n",
    "            print('File %s was not encoded correctly - got number of categories %d instead of %d' % (file, file_seq.shape[1], 21))\n",
    "            continue\n",
    "\n",
    "\n",
    "        file_seq = np.concatenate((file_seq, np.zeros((range_max - file_seq.shape[0], 21))), axis = 0)\n",
    "        os.remove(dir_seq + '/' + file)\n",
    "\n",
    "        if file_seq.shape[0] != range_max:\n",
    "            print('File %s was not padded correctly - got shape %d instead of %d' % (file, file_seq.shape[0], range_max))\n",
    "            continue\n",
    "            \n",
    "        np.save(dir_seq + '/' + file, file_seq)\n",
    "        \n",
    "        \n",
    "def get_sequences(dir_pdb, dir_seq):\n",
    "    \n",
    "    range_max = encode_sequence(dir_pdb, dir_seq)\n",
    "    pad_encoded_sequences(dir_seq, range_max)\n",
    "    \n"
   ]
  },
  {
   "cell_type": "code",
   "execution_count": 28,
   "id": "portable-quarterly",
   "metadata": {},
   "outputs": [],
   "source": [
    "get_sequences('./PDBs', './SEQs')"
   ]
  },
  {
   "cell_type": "code",
   "execution_count": 63,
   "id": "happy-allah",
   "metadata": {},
   "outputs": [
    {
     "ename": "ValueError",
     "evalue": "I/O operation on closed file.",
     "output_type": "error",
     "traceback": [
      "\u001b[0;31m---------------------------------------------------------------------------\u001b[0m",
      "\u001b[0;31mTypeError\u001b[0m                                 Traceback (most recent call last)",
      "\u001b[0;32m~/anaconda3/envs/res/lib/python3.8/site-packages/Bio/SeqIO/Interfaces.py\u001b[0m in \u001b[0;36m__init__\u001b[0;34m(self, source, alphabet, mode, fmt)\u001b[0m\n\u001b[1;32m     46\u001b[0m         \u001b[0;32mtry\u001b[0m\u001b[0;34m:\u001b[0m\u001b[0;34m\u001b[0m\u001b[0;34m\u001b[0m\u001b[0m\n\u001b[0;32m---> 47\u001b[0;31m             \u001b[0mself\u001b[0m\u001b[0;34m.\u001b[0m\u001b[0mstream\u001b[0m \u001b[0;34m=\u001b[0m \u001b[0mopen\u001b[0m\u001b[0;34m(\u001b[0m\u001b[0msource\u001b[0m\u001b[0;34m,\u001b[0m \u001b[0;34m\"r\"\u001b[0m \u001b[0;34m+\u001b[0m \u001b[0mmode\u001b[0m\u001b[0;34m)\u001b[0m\u001b[0;34m\u001b[0m\u001b[0;34m\u001b[0m\u001b[0m\n\u001b[0m\u001b[1;32m     48\u001b[0m             \u001b[0mself\u001b[0m\u001b[0;34m.\u001b[0m\u001b[0mshould_close_stream\u001b[0m \u001b[0;34m=\u001b[0m \u001b[0;32mTrue\u001b[0m\u001b[0;34m\u001b[0m\u001b[0;34m\u001b[0m\u001b[0m\n",
      "\u001b[0;31mTypeError\u001b[0m: expected str, bytes or os.PathLike object, not _io.TextIOWrapper",
      "\nDuring handling of the above exception, another exception occurred:\n",
      "\u001b[0;31mValueError\u001b[0m                                Traceback (most recent call last)",
      "\u001b[0;32m<ipython-input-63-44fe05d9d72c>\u001b[0m in \u001b[0;36m<module>\u001b[0;34m\u001b[0m\n\u001b[0;32m----> 1\u001b[0;31m \u001b[0mPdbSeqresIterator\u001b[0m\u001b[0;34m(\u001b[0m\u001b[0mhandle\u001b[0m\u001b[0;34m)\u001b[0m\u001b[0;34m\u001b[0m\u001b[0;34m\u001b[0m\u001b[0m\n\u001b[0m",
      "\u001b[0;32m~/anaconda3/envs/res/lib/python3.8/site-packages/Bio/SeqIO/PdbIO.py\u001b[0m in \u001b[0;36m__init__\u001b[0;34m(self, source)\u001b[0m\n\u001b[1;32m    144\u001b[0m         \u001b[0mlines\u001b[0m \u001b[0mare\u001b[0m \u001b[0mrecorded\u001b[0m \u001b[0;32min\u001b[0m \u001b[0mthe\u001b[0m \u001b[0mdatabase\u001b[0m \u001b[0mcross\u001b[0m\u001b[0;34m-\u001b[0m\u001b[0mreferences\u001b[0m \u001b[0mlist\u001b[0m\u001b[0;34m.\u001b[0m\u001b[0;34m\u001b[0m\u001b[0;34m\u001b[0m\u001b[0m\n\u001b[1;32m    145\u001b[0m         \"\"\"\n\u001b[0;32m--> 146\u001b[0;31m         \u001b[0msuper\u001b[0m\u001b[0;34m(\u001b[0m\u001b[0;34m)\u001b[0m\u001b[0;34m.\u001b[0m\u001b[0m__init__\u001b[0m\u001b[0;34m(\u001b[0m\u001b[0msource\u001b[0m\u001b[0;34m,\u001b[0m \u001b[0mmode\u001b[0m\u001b[0;34m=\u001b[0m\u001b[0;34m\"t\"\u001b[0m\u001b[0;34m,\u001b[0m \u001b[0mfmt\u001b[0m\u001b[0;34m=\u001b[0m\u001b[0;34m\"PDB\"\u001b[0m\u001b[0;34m)\u001b[0m\u001b[0;34m\u001b[0m\u001b[0;34m\u001b[0m\u001b[0m\n\u001b[0m\u001b[1;32m    147\u001b[0m \u001b[0;34m\u001b[0m\u001b[0m\n\u001b[1;32m    148\u001b[0m     \u001b[0;32mdef\u001b[0m \u001b[0mparse\u001b[0m\u001b[0;34m(\u001b[0m\u001b[0mself\u001b[0m\u001b[0;34m,\u001b[0m \u001b[0mhandle\u001b[0m\u001b[0;34m)\u001b[0m\u001b[0;34m:\u001b[0m\u001b[0;34m\u001b[0m\u001b[0;34m\u001b[0m\u001b[0m\n",
      "\u001b[0;32m~/anaconda3/envs/res/lib/python3.8/site-packages/Bio/SeqIO/Interfaces.py\u001b[0m in \u001b[0;36m__init__\u001b[0;34m(self, source, alphabet, mode, fmt)\u001b[0m\n\u001b[1;32m     49\u001b[0m         \u001b[0;32mexcept\u001b[0m \u001b[0mTypeError\u001b[0m\u001b[0;34m:\u001b[0m  \u001b[0;31m# not a path, assume we received a stream\u001b[0m\u001b[0;34m\u001b[0m\u001b[0;34m\u001b[0m\u001b[0m\n\u001b[1;32m     50\u001b[0m             \u001b[0;32mif\u001b[0m \u001b[0mmode\u001b[0m \u001b[0;34m==\u001b[0m \u001b[0;34m\"t\"\u001b[0m\u001b[0;34m:\u001b[0m\u001b[0;34m\u001b[0m\u001b[0;34m\u001b[0m\u001b[0m\n\u001b[0;32m---> 51\u001b[0;31m                 \u001b[0;32mif\u001b[0m \u001b[0msource\u001b[0m\u001b[0;34m.\u001b[0m\u001b[0mread\u001b[0m\u001b[0;34m(\u001b[0m\u001b[0;36m0\u001b[0m\u001b[0;34m)\u001b[0m \u001b[0;34m!=\u001b[0m \u001b[0;34m\"\"\u001b[0m\u001b[0;34m:\u001b[0m\u001b[0;34m\u001b[0m\u001b[0;34m\u001b[0m\u001b[0m\n\u001b[0m\u001b[1;32m     52\u001b[0m                     raise StreamModeError(\n\u001b[1;32m     53\u001b[0m                         \u001b[0;34m\"%s files must be opened in text mode.\"\u001b[0m \u001b[0;34m%\u001b[0m \u001b[0mfmt\u001b[0m\u001b[0;34m\u001b[0m\u001b[0;34m\u001b[0m\u001b[0m\n",
      "\u001b[0;31mValueError\u001b[0m: I/O operation on closed file."
     ]
    }
   ],
   "source": [
    "PdbSeqresIterator(handle)"
   ]
  },
  {
   "cell_type": "code",
   "execution_count": 10,
   "id": "guilty-humor",
   "metadata": {},
   "outputs": [
    {
     "name": "stdout",
     "output_type": "stream",
     "text": [
      "21\n"
     ]
    }
   ],
   "source": []
  },
  {
   "cell_type": "code",
   "execution_count": 11,
   "id": "daily-throw",
   "metadata": {},
   "outputs": [],
   "source": [
    "alphabet = ['\\n', 'A', 'R', 'N', 'D', 'C', 'E', 'Q', 'G', 'H', 'I', 'L', 'K', 'M', 'F', 'P', 'S', 'T', 'W', 'Y', 'V']\n",
    "\n",
    "label_encoder = LabelEncoder()\n",
    "integer_encoded = label_encoder.fit_transform(np.array(alphabet))\n",
    "\n",
    "onehot_encoder = OneHotEncoder(sparse=False)\n",
    "integer_encoded = integer_encoded.reshape(len(integer_encoded), 1)\n",
    "onehot_encoded = onehot_encoder.fit_transform(integer_encoded)"
   ]
  },
  {
   "cell_type": "code",
   "execution_count": 7,
   "id": "ambient-romance",
   "metadata": {},
   "outputs": [],
   "source": [
    "alphabet = ['\\n', 'A', 'R', 'N', 'D', 'C', 'E', 'Q', 'G', 'H', 'I', 'L', 'K', 'M', 'F', 'P', 'S', 'T', 'W', 'Y', 'V']\n",
    "\n",
    "label_encoder = LabelEncoder()\n",
    "integer_encoded = label_encoder.fit_transform(np.array(alphabet))\n",
    "\n",
    "onehot_encoder = OneHotEncoder(sparse=False)\n",
    "integer_encoded = integer_encoded.reshape(len(integer_encoded), 1)\n",
    "onehot_encoded = onehot_encoder.fit_transform(integer_encoded)\n",
    "dictionary = dict(zip(alphabet, onehot_encoded))\n",
    "\n",
    "files_pdb = os.listdir(dir_pdb)\n",
    "\n",
    "range_max = -1\n",
    "    \n",
    "for filename in files_pdb:\n",
    "        \n",
    "    with open(dir_pdb + \"/\" + filename) as handle:\n",
    "        for record in PdbSeqresIterator(handle):\n",
    "            pass\n",
    "            #print(\"Record id %s, chain %s\" % (record.id, record.annotations[\"chain\"]))\n",
    "            #print(record.dbxrefs)\n",
    "\n",
    "    values_raw = np.array(list(str(record.seq)))\n",
    "    values = np.append(values_raw, '\\n')\n",
    "    \n",
    "    seq_list = [dictionary[value] for value in values]\n",
    "    \n",
    "    if np.array(seq_list).shape[1] != 21:\n",
    "        print('File %s was not encoded correctly - got number of categories %d instead of %d' % (file, file_seq.shape[1], 21))\n",
    "        continue\n",
    "    \n",
    "    with open(dir_seq + '/' + filename[0:-4] + '_seq.npy', 'wb') as f:\n",
    "            np.save(f, np.array(seq_list))\n",
    "\n",
    "    f.close()\n",
    "    handle.close()\n",
    "        \n",
    "    if np.array(seq_list).shape[0] > range_max:\n",
    "        range_max = np.array(seq_list).shape[0]\n",
    "    \n",
    "    "
   ]
  },
  {
   "cell_type": "code",
   "execution_count": 17,
   "id": "first-charles",
   "metadata": {},
   "outputs": [],
   "source": [
    "seq_list = []\n",
    ":\n",
    "seq_list = [dictionary[value] for value in values]\n"
   ]
  },
  {
   "cell_type": "code",
   "execution_count": 20,
   "id": "dirty-owner",
   "metadata": {},
   "outputs": [
    {
     "data": {
      "text/plain": [
       "(299, 21)"
      ]
     },
     "execution_count": 20,
     "metadata": {},
     "output_type": "execute_result"
    }
   ],
   "source": [
    "np.array(seq_list).shape"
   ]
  },
  {
   "cell_type": "code",
   "execution_count": null,
   "id": "senior-hollywood",
   "metadata": {},
   "outputs": [],
   "source": []
  }
 ],
 "metadata": {
  "kernelspec": {
   "display_name": "Python 3",
   "language": "python",
   "name": "python3"
  },
  "language_info": {
   "codemirror_mode": {
    "name": "ipython",
    "version": 3
   },
   "file_extension": ".py",
   "mimetype": "text/x-python",
   "name": "python",
   "nbconvert_exporter": "python",
   "pygments_lexer": "ipython3",
   "version": "3.8.8"
  }
 },
 "nbformat": 4,
 "nbformat_minor": 5
}
